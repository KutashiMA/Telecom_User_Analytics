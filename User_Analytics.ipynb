{
 "cells": [
  {
   "cell_type": "code",
   "execution_count": 1,
   "id": "8e6c2549",
   "metadata": {},
   "outputs": [],
   "source": [
    "import pandas as pd"
   ]
  },
  {
   "cell_type": "code",
   "execution_count": 21,
   "id": "fc3f66f0",
   "metadata": {},
   "outputs": [
    {
     "output_type": "execute_result",
     "data": {
      "text/plain": [
       "              Bearer Id               Start  Start ms                 End  \\\n",
       "0  13114483460844900352 2019-04-04 12:01:18     770.0 2019-04-25 14:35:31   \n",
       "1  13114483482878900224 2019-04-09 13:04:04     235.0 2019-04-25 08:15:48   \n",
       "2  13114483484080500736 2019-04-09 17:42:11       1.0 2019-04-25 11:58:13   \n",
       "3  13114483485442799616 2019-04-10 00:31:25     486.0 2019-04-25 07:36:35   \n",
       "4  13114483499480700928 2019-04-12 20:10:23     565.0 2019-04-25 10:40:32   \n",
       "\n",
       "   End ms  Dur. (ms)          IMSI  MSISDN/Number          IMEI  \\\n",
       "0   662.0  1823652.0  2.082014e+14   3.366496e+10  3.552121e+13   \n",
       "1   606.0  1365104.0  2.082019e+14   3.368185e+10  3.579401e+13   \n",
       "2   652.0  1361762.0  2.082003e+14   3.376063e+10  3.528151e+13   \n",
       "3   171.0  1321509.0  2.082014e+14   3.375034e+10  3.535661e+13   \n",
       "4   954.0  1089009.0  2.082014e+14   3.369980e+10  3.540701e+13   \n",
       "\n",
       "  Last Location Name  Avg RTT DL (ms)  Avg RTT UL (ms)  \\\n",
       "0   9164566995485190             42.0              5.0   \n",
       "1            L77566A             65.0              5.0   \n",
       "2            D42335A              NaN              NaN   \n",
       "3            T21824A              NaN              NaN   \n",
       "4            D88865A              NaN              NaN   \n",
       "\n",
       "   Avg Bearer TP DL (kbps)  Avg Bearer TP UL (kbps)  \\\n",
       "0                     23.0                     44.0   \n",
       "1                     16.0                     26.0   \n",
       "2                      6.0                      9.0   \n",
       "3                     44.0                     44.0   \n",
       "4                      6.0                      9.0   \n",
       "\n",
       "   TCP DL Retrans. Vol (Bytes)  TCP UL Retrans. Vol (Bytes)  \\\n",
       "0                          NaN                          NaN   \n",
       "1                          NaN                          NaN   \n",
       "2                          NaN                          NaN   \n",
       "3                          NaN                          NaN   \n",
       "4                          NaN                          NaN   \n",
       "\n",
       "   DL TP < 50 Kbps (%)  50 Kbps < DL TP < 250 Kbps (%)  \\\n",
       "0                100.0                             0.0   \n",
       "1                100.0                             0.0   \n",
       "2                100.0                             0.0   \n",
       "3                100.0                             0.0   \n",
       "4                100.0                             0.0   \n",
       "\n",
       "   250 Kbps < DL TP < 1 Mbps (%)  DL TP > 1 Mbps (%)  UL TP < 10 Kbps (%)  \\\n",
       "0                            0.0                 0.0                100.0   \n",
       "1                            0.0                 0.0                100.0   \n",
       "2                            0.0                 0.0                100.0   \n",
       "3                            0.0                 0.0                100.0   \n",
       "4                            0.0                 0.0                100.0   \n",
       "\n",
       "   10 Kbps < UL TP < 50 Kbps (%)  50 Kbps < UL TP < 300 Kbps (%)  \\\n",
       "0                            0.0                             0.0   \n",
       "1                            0.0                             0.0   \n",
       "2                            0.0                             0.0   \n",
       "3                            0.0                             0.0   \n",
       "4                            0.0                             0.0   \n",
       "\n",
       "   UL TP > 300 Kbps (%)  HTTP DL (Bytes)  HTTP UL (Bytes)  \\\n",
       "0                   0.0              NaN              NaN   \n",
       "1                   0.0              NaN              NaN   \n",
       "2                   0.0              NaN              NaN   \n",
       "3                   0.0              NaN              NaN   \n",
       "4                   0.0              NaN              NaN   \n",
       "\n",
       "   Activity Duration DL (ms)  Activity Duration UL (ms)   Dur. (ms).1  \\\n",
       "0                    37624.0                    38787.0  1.823653e+09   \n",
       "1                      168.0                     3560.0  1.365104e+09   \n",
       "2                        0.0                        0.0  1.361763e+09   \n",
       "3                     3330.0                    37882.0  1.321510e+09   \n",
       "4                        0.0                        0.0  1.089009e+09   \n",
       "\n",
       "  Handset Manufacturer                 Handset Type  \\\n",
       "0              Samsung   Samsung Galaxy A5 Sm-A520F   \n",
       "1              Samsung  Samsung Galaxy J5 (Sm-J530)   \n",
       "2              Samsung     Samsung Galaxy A8 (2018)   \n",
       "3            undefined                    undefined   \n",
       "4              Samsung             Samsung Sm-G390F   \n",
       "\n",
       "   Nb of sec with 125000B < Vol DL  Nb of sec with 1250B < Vol UL < 6250B  \\\n",
       "0                              NaN                                    NaN   \n",
       "1                              NaN                                    NaN   \n",
       "2                              NaN                                    NaN   \n",
       "3                              NaN                                    NaN   \n",
       "4                              NaN                                    NaN   \n",
       "\n",
       "   Nb of sec with 31250B < Vol DL < 125000B  Nb of sec with 37500B < Vol UL  \\\n",
       "0                                       NaN                             NaN   \n",
       "1                                       NaN                             NaN   \n",
       "2                                       NaN                             NaN   \n",
       "3                                       NaN                             NaN   \n",
       "4                                       NaN                             NaN   \n",
       "\n",
       "   Nb of sec with 6250B < Vol DL < 31250B  \\\n",
       "0                                     NaN   \n",
       "1                                     NaN   \n",
       "2                                     NaN   \n",
       "3                                     NaN   \n",
       "4                                     NaN   \n",
       "\n",
       "   Nb of sec with 6250B < Vol UL < 37500B  Nb of sec with Vol DL < 6250B  \\\n",
       "0                                     NaN                          213.0   \n",
       "1                                     NaN                          971.0   \n",
       "2                                     NaN                          751.0   \n",
       "3                                     NaN                           17.0   \n",
       "4                                     NaN                          607.0   \n",
       "\n",
       "   Nb of sec with Vol UL < 1250B  Social Media DL (Bytes)  \\\n",
       "0                          214.0                1545765.0   \n",
       "1                         1022.0                1926113.0   \n",
       "2                          695.0                1684053.0   \n",
       "3                          207.0                 644121.0   \n",
       "4                          604.0                 862600.0   \n",
       "\n",
       "   Social Media UL (Bytes)  Google DL (Bytes)  Google UL (Bytes)  \\\n",
       "0                  24420.0          1634479.0          1271433.0   \n",
       "1                   7165.0          3493924.0           920172.0   \n",
       "2                  42224.0          8535055.0          1694064.0   \n",
       "3                  13372.0          9023734.0          2788027.0   \n",
       "4                  50188.0          6248284.0          1500559.0   \n",
       "\n",
       "   Email DL (Bytes)  Email UL (Bytes)  Youtube DL (Bytes)  Youtube UL (Bytes)  \\\n",
       "0         3563542.0          137762.0          15854611.0           2501332.0   \n",
       "1          629046.0          308339.0          20247395.0          19111729.0   \n",
       "2         2690151.0          672973.0          19725661.0          14699576.0   \n",
       "3         1439754.0          631229.0          21388122.0          15146643.0   \n",
       "4         1936496.0          173853.0          15259380.0          18962873.0   \n",
       "\n",
       "   Netflix DL (Bytes)  Netflix UL (Bytes)  Gaming DL (Bytes)  \\\n",
       "0           8198936.0           9656251.0        278082303.0   \n",
       "1          18338413.0          17227132.0        608750074.0   \n",
       "2          17587794.0           6163408.0        229584621.0   \n",
       "3          13994646.0           1097942.0        799538153.0   \n",
       "4          17124581.0            415218.0        527707248.0   \n",
       "\n",
       "   Gaming UL (Bytes)  Other DL (Bytes)  Other UL (Bytes)  Total UL (Bytes)  \\\n",
       "0         14344150.0       171744450.0         8814393.0        36749741.0   \n",
       "1          1170709.0       526904238.0        15055145.0        53800391.0   \n",
       "2           395630.0       410692588.0         4215763.0        27883638.0   \n",
       "3         10849722.0       749039933.0        12797283.0        43324218.0   \n",
       "4          3529801.0       550709500.0        13910322.0        38542814.0   \n",
       "\n",
       "   Total DL (Bytes)  \n",
       "0       308879636.0  \n",
       "1       653384965.0  \n",
       "2       279807335.0  \n",
       "3       846028530.0  \n",
       "4       569138589.0  "
      ],
      "text/html": "<div>\n<style scoped>\n    .dataframe tbody tr th:only-of-type {\n        vertical-align: middle;\n    }\n\n    .dataframe tbody tr th {\n        vertical-align: top;\n    }\n\n    .dataframe thead th {\n        text-align: right;\n    }\n</style>\n<table border=\"1\" class=\"dataframe\">\n  <thead>\n    <tr style=\"text-align: right;\">\n      <th></th>\n      <th>Bearer Id</th>\n      <th>Start</th>\n      <th>Start ms</th>\n      <th>End</th>\n      <th>End ms</th>\n      <th>Dur. (ms)</th>\n      <th>IMSI</th>\n      <th>MSISDN/Number</th>\n      <th>IMEI</th>\n      <th>Last Location Name</th>\n      <th>Avg RTT DL (ms)</th>\n      <th>Avg RTT UL (ms)</th>\n      <th>Avg Bearer TP DL (kbps)</th>\n      <th>Avg Bearer TP UL (kbps)</th>\n      <th>TCP DL Retrans. Vol (Bytes)</th>\n      <th>TCP UL Retrans. Vol (Bytes)</th>\n      <th>DL TP &lt; 50 Kbps (%)</th>\n      <th>50 Kbps &lt; DL TP &lt; 250 Kbps (%)</th>\n      <th>250 Kbps &lt; DL TP &lt; 1 Mbps (%)</th>\n      <th>DL TP &gt; 1 Mbps (%)</th>\n      <th>UL TP &lt; 10 Kbps (%)</th>\n      <th>10 Kbps &lt; UL TP &lt; 50 Kbps (%)</th>\n      <th>50 Kbps &lt; UL TP &lt; 300 Kbps (%)</th>\n      <th>UL TP &gt; 300 Kbps (%)</th>\n      <th>HTTP DL (Bytes)</th>\n      <th>HTTP UL (Bytes)</th>\n      <th>Activity Duration DL (ms)</th>\n      <th>Activity Duration UL (ms)</th>\n      <th>Dur. (ms).1</th>\n      <th>Handset Manufacturer</th>\n      <th>Handset Type</th>\n      <th>Nb of sec with 125000B &lt; Vol DL</th>\n      <th>Nb of sec with 1250B &lt; Vol UL &lt; 6250B</th>\n      <th>Nb of sec with 31250B &lt; Vol DL &lt; 125000B</th>\n      <th>Nb of sec with 37500B &lt; Vol UL</th>\n      <th>Nb of sec with 6250B &lt; Vol DL &lt; 31250B</th>\n      <th>Nb of sec with 6250B &lt; Vol UL &lt; 37500B</th>\n      <th>Nb of sec with Vol DL &lt; 6250B</th>\n      <th>Nb of sec with Vol UL &lt; 1250B</th>\n      <th>Social Media DL (Bytes)</th>\n      <th>Social Media UL (Bytes)</th>\n      <th>Google DL (Bytes)</th>\n      <th>Google UL (Bytes)</th>\n      <th>Email DL (Bytes)</th>\n      <th>Email UL (Bytes)</th>\n      <th>Youtube DL (Bytes)</th>\n      <th>Youtube UL (Bytes)</th>\n      <th>Netflix DL (Bytes)</th>\n      <th>Netflix UL (Bytes)</th>\n      <th>Gaming DL (Bytes)</th>\n      <th>Gaming UL (Bytes)</th>\n      <th>Other DL (Bytes)</th>\n      <th>Other UL (Bytes)</th>\n      <th>Total UL (Bytes)</th>\n      <th>Total DL (Bytes)</th>\n    </tr>\n  </thead>\n  <tbody>\n    <tr>\n      <th>0</th>\n      <td>13114483460844900352</td>\n      <td>2019-04-04 12:01:18</td>\n      <td>770.0</td>\n      <td>2019-04-25 14:35:31</td>\n      <td>662.0</td>\n      <td>1823652.0</td>\n      <td>2.082014e+14</td>\n      <td>3.366496e+10</td>\n      <td>3.552121e+13</td>\n      <td>9164566995485190</td>\n      <td>42.0</td>\n      <td>5.0</td>\n      <td>23.0</td>\n      <td>44.0</td>\n      <td>NaN</td>\n      <td>NaN</td>\n      <td>100.0</td>\n      <td>0.0</td>\n      <td>0.0</td>\n      <td>0.0</td>\n      <td>100.0</td>\n      <td>0.0</td>\n      <td>0.0</td>\n      <td>0.0</td>\n      <td>NaN</td>\n      <td>NaN</td>\n      <td>37624.0</td>\n      <td>38787.0</td>\n      <td>1.823653e+09</td>\n      <td>Samsung</td>\n      <td>Samsung Galaxy A5 Sm-A520F</td>\n      <td>NaN</td>\n      <td>NaN</td>\n      <td>NaN</td>\n      <td>NaN</td>\n      <td>NaN</td>\n      <td>NaN</td>\n      <td>213.0</td>\n      <td>214.0</td>\n      <td>1545765.0</td>\n      <td>24420.0</td>\n      <td>1634479.0</td>\n      <td>1271433.0</td>\n      <td>3563542.0</td>\n      <td>137762.0</td>\n      <td>15854611.0</td>\n      <td>2501332.0</td>\n      <td>8198936.0</td>\n      <td>9656251.0</td>\n      <td>278082303.0</td>\n      <td>14344150.0</td>\n      <td>171744450.0</td>\n      <td>8814393.0</td>\n      <td>36749741.0</td>\n      <td>308879636.0</td>\n    </tr>\n    <tr>\n      <th>1</th>\n      <td>13114483482878900224</td>\n      <td>2019-04-09 13:04:04</td>\n      <td>235.0</td>\n      <td>2019-04-25 08:15:48</td>\n      <td>606.0</td>\n      <td>1365104.0</td>\n      <td>2.082019e+14</td>\n      <td>3.368185e+10</td>\n      <td>3.579401e+13</td>\n      <td>L77566A</td>\n      <td>65.0</td>\n      <td>5.0</td>\n      <td>16.0</td>\n      <td>26.0</td>\n      <td>NaN</td>\n      <td>NaN</td>\n      <td>100.0</td>\n      <td>0.0</td>\n      <td>0.0</td>\n      <td>0.0</td>\n      <td>100.0</td>\n      <td>0.0</td>\n      <td>0.0</td>\n      <td>0.0</td>\n      <td>NaN</td>\n      <td>NaN</td>\n      <td>168.0</td>\n      <td>3560.0</td>\n      <td>1.365104e+09</td>\n      <td>Samsung</td>\n      <td>Samsung Galaxy J5 (Sm-J530)</td>\n      <td>NaN</td>\n      <td>NaN</td>\n      <td>NaN</td>\n      <td>NaN</td>\n      <td>NaN</td>\n      <td>NaN</td>\n      <td>971.0</td>\n      <td>1022.0</td>\n      <td>1926113.0</td>\n      <td>7165.0</td>\n      <td>3493924.0</td>\n      <td>920172.0</td>\n      <td>629046.0</td>\n      <td>308339.0</td>\n      <td>20247395.0</td>\n      <td>19111729.0</td>\n      <td>18338413.0</td>\n      <td>17227132.0</td>\n      <td>608750074.0</td>\n      <td>1170709.0</td>\n      <td>526904238.0</td>\n      <td>15055145.0</td>\n      <td>53800391.0</td>\n      <td>653384965.0</td>\n    </tr>\n    <tr>\n      <th>2</th>\n      <td>13114483484080500736</td>\n      <td>2019-04-09 17:42:11</td>\n      <td>1.0</td>\n      <td>2019-04-25 11:58:13</td>\n      <td>652.0</td>\n      <td>1361762.0</td>\n      <td>2.082003e+14</td>\n      <td>3.376063e+10</td>\n      <td>3.528151e+13</td>\n      <td>D42335A</td>\n      <td>NaN</td>\n      <td>NaN</td>\n      <td>6.0</td>\n      <td>9.0</td>\n      <td>NaN</td>\n      <td>NaN</td>\n      <td>100.0</td>\n      <td>0.0</td>\n      <td>0.0</td>\n      <td>0.0</td>\n      <td>100.0</td>\n      <td>0.0</td>\n      <td>0.0</td>\n      <td>0.0</td>\n      <td>NaN</td>\n      <td>NaN</td>\n      <td>0.0</td>\n      <td>0.0</td>\n      <td>1.361763e+09</td>\n      <td>Samsung</td>\n      <td>Samsung Galaxy A8 (2018)</td>\n      <td>NaN</td>\n      <td>NaN</td>\n      <td>NaN</td>\n      <td>NaN</td>\n      <td>NaN</td>\n      <td>NaN</td>\n      <td>751.0</td>\n      <td>695.0</td>\n      <td>1684053.0</td>\n      <td>42224.0</td>\n      <td>8535055.0</td>\n      <td>1694064.0</td>\n      <td>2690151.0</td>\n      <td>672973.0</td>\n      <td>19725661.0</td>\n      <td>14699576.0</td>\n      <td>17587794.0</td>\n      <td>6163408.0</td>\n      <td>229584621.0</td>\n      <td>395630.0</td>\n      <td>410692588.0</td>\n      <td>4215763.0</td>\n      <td>27883638.0</td>\n      <td>279807335.0</td>\n    </tr>\n    <tr>\n      <th>3</th>\n      <td>13114483485442799616</td>\n      <td>2019-04-10 00:31:25</td>\n      <td>486.0</td>\n      <td>2019-04-25 07:36:35</td>\n      <td>171.0</td>\n      <td>1321509.0</td>\n      <td>2.082014e+14</td>\n      <td>3.375034e+10</td>\n      <td>3.535661e+13</td>\n      <td>T21824A</td>\n      <td>NaN</td>\n      <td>NaN</td>\n      <td>44.0</td>\n      <td>44.0</td>\n      <td>NaN</td>\n      <td>NaN</td>\n      <td>100.0</td>\n      <td>0.0</td>\n      <td>0.0</td>\n      <td>0.0</td>\n      <td>100.0</td>\n      <td>0.0</td>\n      <td>0.0</td>\n      <td>0.0</td>\n      <td>NaN</td>\n      <td>NaN</td>\n      <td>3330.0</td>\n      <td>37882.0</td>\n      <td>1.321510e+09</td>\n      <td>undefined</td>\n      <td>undefined</td>\n      <td>NaN</td>\n      <td>NaN</td>\n      <td>NaN</td>\n      <td>NaN</td>\n      <td>NaN</td>\n      <td>NaN</td>\n      <td>17.0</td>\n      <td>207.0</td>\n      <td>644121.0</td>\n      <td>13372.0</td>\n      <td>9023734.0</td>\n      <td>2788027.0</td>\n      <td>1439754.0</td>\n      <td>631229.0</td>\n      <td>21388122.0</td>\n      <td>15146643.0</td>\n      <td>13994646.0</td>\n      <td>1097942.0</td>\n      <td>799538153.0</td>\n      <td>10849722.0</td>\n      <td>749039933.0</td>\n      <td>12797283.0</td>\n      <td>43324218.0</td>\n      <td>846028530.0</td>\n    </tr>\n    <tr>\n      <th>4</th>\n      <td>13114483499480700928</td>\n      <td>2019-04-12 20:10:23</td>\n      <td>565.0</td>\n      <td>2019-04-25 10:40:32</td>\n      <td>954.0</td>\n      <td>1089009.0</td>\n      <td>2.082014e+14</td>\n      <td>3.369980e+10</td>\n      <td>3.540701e+13</td>\n      <td>D88865A</td>\n      <td>NaN</td>\n      <td>NaN</td>\n      <td>6.0</td>\n      <td>9.0</td>\n      <td>NaN</td>\n      <td>NaN</td>\n      <td>100.0</td>\n      <td>0.0</td>\n      <td>0.0</td>\n      <td>0.0</td>\n      <td>100.0</td>\n      <td>0.0</td>\n      <td>0.0</td>\n      <td>0.0</td>\n      <td>NaN</td>\n      <td>NaN</td>\n      <td>0.0</td>\n      <td>0.0</td>\n      <td>1.089009e+09</td>\n      <td>Samsung</td>\n      <td>Samsung Sm-G390F</td>\n      <td>NaN</td>\n      <td>NaN</td>\n      <td>NaN</td>\n      <td>NaN</td>\n      <td>NaN</td>\n      <td>NaN</td>\n      <td>607.0</td>\n      <td>604.0</td>\n      <td>862600.0</td>\n      <td>50188.0</td>\n      <td>6248284.0</td>\n      <td>1500559.0</td>\n      <td>1936496.0</td>\n      <td>173853.0</td>\n      <td>15259380.0</td>\n      <td>18962873.0</td>\n      <td>17124581.0</td>\n      <td>415218.0</td>\n      <td>527707248.0</td>\n      <td>3529801.0</td>\n      <td>550709500.0</td>\n      <td>13910322.0</td>\n      <td>38542814.0</td>\n      <td>569138589.0</td>\n    </tr>\n  </tbody>\n</table>\n</div>"
     },
     "metadata": {},
     "execution_count": 21
    }
   ],
   "source": [
    "pd.set_option('max_column', None)\n",
    "df = pd.read_excel('Week1_challenge_data_source.xlsx')\n",
    "df.head()"
   ]
  },
  {
   "cell_type": "code",
   "execution_count": 20,
   "id": "67c80164",
   "metadata": {},
   "outputs": [
    {
     "output_type": "stream",
     "name": "stdout",
     "text": [
      "bearer id: xDr session identifier\n\nDur. (ms): Total Duration of the xDR (in ms)\n\nStart: Start time of the xDR (first frame timestamp)\n\nStart ms: Milliseconds offset of start time for the xDR (first frame timestamp)\n\nEnd: End time of the xDR (last frame timestamp)\n\nEnd ms: Milliseconds offset of end time of the xDR (last frame timestamp)\n\nDur. (s): Total Duration of the xDR (in s)\n\nIMSI: International Mobile Subscriber Identity\n\nMSISDN/Number: MS International PSTN/ISDN Number of mobile - customer number\n\nIMEI: International Mobile Equipment Identity\n\nLast Location Name: User location call name (2G/3G/4G) at the end of the bearer\n\nAvg RTT DL (ms): Average Round Trip Time measurement Downlink direction (msecond)\n\nAvg RTT UL (ms): Average Round Trip Time measurement Uplink direction (msecond)\n\nAvg Bearer TP DL (kbps): Average Bearer Throughput for Downlink (kbps) - based on BDR duration\n\nAvg Bearer TP UL (kbps): Average Bearer Throughput for uplink (kbps) - based on BDR duration\n\nTCP DL Retrans. Vol (Bytes): TCP volume of Downlink packets detected as retransmitted (bytes)\n\nTCP UL Retrans. Vol (Bytes): TCP volume of Uplink packets detected as retransmitted (bytes)\n\nDL TP < 50 Kbps (%): Duration ratio when Bearer Downlink Throughput < ….\n\n50 Kbps < DL TP < 250 Kbps (%): Duration ratio when Bearer Downlink Throughput range is …\n\n250 Kbps < DL TP < 1 Mbps (%): Duration ratio when Bearer Downlink Throughput range is …\n\nDL TP > 1 Mbps (%): Duration ratio when Bearer Downlink Throughput > ….\n\nUL TP < 10 Kbps (%): Duration ratio when Bearer Uplink Throughput < ….\n\n10 Kbps < UL TP < 50 Kbps (%): Duration ratio when Bearer Uplink Throughput range is …\n\n50 Kbps < UL TP < 300 Kbps (%): Duration ratio when Bearer Uplink Throughput range is …\n\nUL TP > 300 Kbps (%): Duration ratio when Bearer Uplink Throughput > ….\n\nHTTP DL (Bytes): HTTP data volume (in Bytes) received by the MS during this session\n\nHTTP UL (Bytes): HTTP data volume (in Bytes) sent by the MS during this session\n\nActivity Duration DL (ms): Activity Duration for downlink (ms) - excluding periods of inactivity > 500 ms\n\nActivity Duration UL (ms): Activity Duration for uplink (ms) - excluding periods of inactivity > 500 ms\n\nDur. (ms).1: Total Duration of the xDR (in ms)\n\nHandset Manufacturer: Handset manufacturer \n\nHandset Type: Handset type of the mobile device\n\nNb of sec with 125000B < Vol DL: Number of seconds with IP Volume DL >\n\nNb of sec with 1250B < Vol UL < 6250B: Number of seconds with IP Volume UL between …\n\nNb of sec with 31250B < Vol DL < 125000B: Number of seconds with IP Volume DL between …\n\nNb of sec with 37500B < Vol UL: Number of seconds with IP Volume UL >\n\nNb of sec with 6250B < Vol DL < 31250B: Number of seconds with IP Volume DL between …\n\nNb of sec with 6250B < Vol UL < 37500B: Number of seconds with IP Volume UL between …\n\nNb of sec with Vol DL < 6250B: Number of seconds with IP Volume DL <\n\nNb of sec with Vol UL < 1250B: Number of seconds with IP Volume UL <\n\nSocial Media DL (Bytes): Social Media data volume (in Bytes) received by the MS during this session\n\nSocial Media UL (Bytes): Social Media data volume (in Bytes) sent by the MS during this session\n\nYouTube DL (Bytes): YouTube data volume (in Bytes) received by the MS during this session\n\nYouTube UL (Bytes): YouTube data volume (in Bytes) sent by the MS during this session\n\nNetflix DL (Bytes): Netflix data volume (in Bytes) received by the MS during this session\n\nNetflix UL (Bytes): Netflix data volume (in Bytes) sent by the MS during this session\n\nGoogle DL (Bytes): Google data volume (in Bytes) Received by the MS during this session\n\nGoogle UL (Bytes): Google data volume (in Bytes) sent by the MS during this session\n\nEmail DL (Bytes): Email data volume (in Bytes) Received by the MS during this session\n\nEmail UL (Bytes): Email data volume (in Bytes) sent by the MS during this session\n\nGaming DL (Bytes): Gaming data volume (in Bytes) Received by the MS during this session\n\nGaming UL (Bytes): Gaming data volume (in Bytes) sent by the MS during this session\n\nOther DL: Other data volume (in Bytes) received by the MS during this session\n\nOther UL: Other data volume (in Bytes) sent by the MS during this session\n\nTotal DL (Bytes): Data volume (in Bytes) received by the MS during this session (IP layer + overhead)\n\nTotal UL (Bytes): Data volume (in Bytes) sent by the MS during this session (IP layer + overhead)\n\n"
     ]
    }
   ],
   "source": [
    "# Reading in and printing out description of all columns in the dataset\n",
    "field_desc = pd.read_excel('Field_Descriptions.xlsx')\n",
    "count = 0\n",
    "for i in field_desc['Fields']:\n",
    "    print(f'{i}: {field_desc.Description[count]}\\n')\n",
    "    count += 1"
   ]
  },
  {
   "cell_type": "code",
   "execution_count": 23,
   "metadata": {},
   "outputs": [
    {
     "output_type": "execute_result",
     "data": {
      "text/plain": [
       "(150001, 55)"
      ]
     },
     "metadata": {},
     "execution_count": 23
    }
   ],
   "source": [
    "# Checking the shape of the dataset\n",
    "df.shape"
   ]
  },
  {
   "source": [
    "The dataset has 150001 rows and 55 columns"
   ],
   "cell_type": "markdown",
   "metadata": {}
  },
  {
   "source": [
    "### Sub-Tasks"
   ],
   "cell_type": "markdown",
   "metadata": {}
  },
  {
   "cell_type": "code",
   "execution_count": null,
   "metadata": {},
   "outputs": [],
   "source": [
    "# "
   ]
  }
 ],
 "metadata": {
  "kernelspec": {
   "name": "python3",
   "display_name": "Python 3.8.8 64-bit"
  },
  "language_info": {
   "codemirror_mode": {
    "name": "ipython",
    "version": 3
   },
   "file_extension": ".py",
   "mimetype": "text/x-python",
   "name": "python",
   "nbconvert_exporter": "python",
   "pygments_lexer": "ipython3",
   "version": "3.8.8"
  },
  "interpreter": {
   "hash": "b3044c62f540c3b3e5399b4d3d79c03662e82943aa7ccdda6a20d9a366f544d4"
  }
 },
 "nbformat": 4,
 "nbformat_minor": 5
}